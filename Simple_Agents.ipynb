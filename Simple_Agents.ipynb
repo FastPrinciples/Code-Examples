{
  "nbformat": 4,
  "nbformat_minor": 0,
  "metadata": {
    "colab": {
      "provenance": [],
      "authorship_tag": "ABX9TyPfbZiW23qJh/xMhE7FgZl1",
      "include_colab_link": true
    },
    "kernelspec": {
      "name": "python3",
      "display_name": "Python 3"
    },
    "language_info": {
      "name": "python"
    }
  },
  "cells": [
    {
      "cell_type": "markdown",
      "metadata": {
        "id": "view-in-github",
        "colab_type": "text"
      },
      "source": [
        "<a href=\"https://colab.research.google.com/github/FastPrinciples/Code-Examples/blob/main/Simple_Agents.ipynb\" target=\"_parent\"><img src=\"https://colab.research.google.com/assets/colab-badge.svg\" alt=\"Open In Colab\"/></a>"
      ]
    },
    {
      "cell_type": "code",
      "execution_count": null,
      "metadata": {
        "colab": {
          "base_uri": "https://localhost:8080/"
        },
        "collapsed": true,
        "id": "n4i1fF9ZKLAG",
        "outputId": "c30cd0a5-0917-4f8b-e469-90496d206b04"
      },
      "outputs": [
        {
          "output_type": "stream",
          "name": "stdout",
          "text": [
            "\u001b[2K     \u001b[90m━━━━━━━━━━━━━━━━━━━━━━━━━━━━━━━━━━━━━━━━\u001b[0m \u001b[32m40.9/40.9 kB\u001b[0m \u001b[31m670.2 kB/s\u001b[0m eta \u001b[36m0:00:00\u001b[0m\n",
            "\u001b[2K     \u001b[90m━━━━━━━━━━━━━━━━━━━━━━━━━━━━━━━━━━━━━━━━\u001b[0m \u001b[32m50.4/50.4 kB\u001b[0m \u001b[31m1.6 MB/s\u001b[0m eta \u001b[36m0:00:00\u001b[0m\n",
            "\u001b[2K     \u001b[90m━━━━━━━━━━━━━━━━━━━━━━━━━━━━━━━━━━━━━━━━\u001b[0m \u001b[32m67.3/67.3 kB\u001b[0m \u001b[31m3.2 MB/s\u001b[0m eta \u001b[36m0:00:00\u001b[0m\n",
            "\u001b[?25h  Installing build dependencies ... \u001b[?25l\u001b[?25hdone\n",
            "  Getting requirements to build wheel ... \u001b[?25l\u001b[?25hdone\n",
            "  Preparing metadata (pyproject.toml) ... \u001b[?25l\u001b[?25hdone\n",
            "\u001b[2K   \u001b[90m━━━━━━━━━━━━━━━━━━━━━━━━━━━━━━━━━━━━━━━━\u001b[0m \u001b[32m1.0/1.0 MB\u001b[0m \u001b[31m8.0 MB/s\u001b[0m eta \u001b[36m0:00:00\u001b[0m\n",
            "\u001b[2K   \u001b[90m━━━━━━━━━━━━━━━━━━━━━━━━━━━━━━━━━━━━━━━━\u001b[0m \u001b[32m362.9/362.9 kB\u001b[0m \u001b[31m18.6 MB/s\u001b[0m eta \u001b[36m0:00:00\u001b[0m\n",
            "\u001b[2K   \u001b[90m━━━━━━━━━━━━━━━━━━━━━━━━━━━━━━━━━━━━━━━━\u001b[0m \u001b[32m133.3/133.3 kB\u001b[0m \u001b[31m9.7 MB/s\u001b[0m eta \u001b[36m0:00:00\u001b[0m\n",
            "\u001b[2K   \u001b[90m━━━━━━━━━━━━━━━━━━━━━━━━━━━━━━━━━━━━━━━━\u001b[0m \u001b[32m50.2/50.2 kB\u001b[0m \u001b[31m3.6 MB/s\u001b[0m eta \u001b[36m0:00:00\u001b[0m\n",
            "\u001b[2K   \u001b[90m━━━━━━━━━━━━━━━━━━━━━━━━━━━━━━━━━━━━━━━━\u001b[0m \u001b[32m210.9/210.9 kB\u001b[0m \u001b[31m13.1 MB/s\u001b[0m eta \u001b[36m0:00:00\u001b[0m\n",
            "\u001b[2K   \u001b[90m━━━━━━━━━━━━━━━━━━━━━━━━━━━━━━━━━━━━━━━━\u001b[0m \u001b[32m76.4/76.4 kB\u001b[0m \u001b[31m5.8 MB/s\u001b[0m eta \u001b[36m0:00:00\u001b[0m\n",
            "\u001b[2K   \u001b[90m━━━━━━━━━━━━━━━━━━━━━━━━━━━━━━━━━━━━━━━━\u001b[0m \u001b[32m77.9/77.9 kB\u001b[0m \u001b[31m5.3 MB/s\u001b[0m eta \u001b[36m0:00:00\u001b[0m\n",
            "\u001b[2K   \u001b[90m━━━━━━━━━━━━━━━━━━━━━━━━━━━━━━━━━━━━━━━━\u001b[0m \u001b[32m327.6/327.6 kB\u001b[0m \u001b[31m19.0 MB/s\u001b[0m eta \u001b[36m0:00:00\u001b[0m\n",
            "\u001b[2K   \u001b[90m━━━━━━━━━━━━━━━━━━━━━━━━━━━━━━━━━━━━━━━━\u001b[0m \u001b[32m395.9/395.9 kB\u001b[0m \u001b[31m22.6 MB/s\u001b[0m eta \u001b[36m0:00:00\u001b[0m\n",
            "\u001b[2K   \u001b[90m━━━━━━━━━━━━━━━━━━━━━━━━━━━━━━━━━━━━━━━━\u001b[0m \u001b[32m150.6/150.6 kB\u001b[0m \u001b[31m10.2 MB/s\u001b[0m eta \u001b[36m0:00:00\u001b[0m\n",
            "\u001b[2K   \u001b[90m━━━━━━━━━━━━━━━━━━━━━━━━━━━━━━━━━━━━━━━━\u001b[0m \u001b[32m64.0/64.0 kB\u001b[0m \u001b[31m4.7 MB/s\u001b[0m eta \u001b[36m0:00:00\u001b[0m\n",
            "\u001b[2K   \u001b[90m━━━━━━━━━━━━━━━━━━━━━━━━━━━━━━━━━━━━━━━━\u001b[0m \u001b[32m52.5/52.5 kB\u001b[0m \u001b[31m3.5 MB/s\u001b[0m eta \u001b[36m0:00:00\u001b[0m\n",
            "\u001b[2K   \u001b[90m━━━━━━━━━━━━━━━━━━━━━━━━━━━━━━━━━━━━━━━━\u001b[0m \u001b[32m110.5/110.5 kB\u001b[0m \u001b[31m7.9 MB/s\u001b[0m eta \u001b[36m0:00:00\u001b[0m\n",
            "\u001b[2K   \u001b[90m━━━━━━━━━━━━━━━━━━━━━━━━━━━━━━━━━━━━━━━━\u001b[0m \u001b[32m149.7/149.7 kB\u001b[0m \u001b[31m8.6 MB/s\u001b[0m eta \u001b[36m0:00:00\u001b[0m\n",
            "\u001b[2K   \u001b[90m━━━━━━━━━━━━━━━━━━━━━━━━━━━━━━━━━━━━━━━━\u001b[0m \u001b[32m774.0/774.0 kB\u001b[0m \u001b[31m29.9 MB/s\u001b[0m eta \u001b[36m0:00:00\u001b[0m\n",
            "\u001b[2K   \u001b[90m━━━━━━━━━━━━━━━━━━━━━━━━━━━━━━━━━━━━━━━━\u001b[0m \u001b[32m233.0/233.0 kB\u001b[0m \u001b[31m5.0 MB/s\u001b[0m eta \u001b[36m0:00:00\u001b[0m\n",
            "\u001b[2K   \u001b[90m━━━━━━━━━━━━━━━━━━━━━━━━━━━━━━━━━━━━━━━━\u001b[0m \u001b[32m525.5/525.5 kB\u001b[0m \u001b[31m3.0 MB/s\u001b[0m eta \u001b[36m0:00:00\u001b[0m\n",
            "\u001b[2K   \u001b[90m━━━━━━━━━━━━━━━━━━━━━━━━━━━━━━━━━━━━━━━━\u001b[0m \u001b[32m2.4/2.4 MB\u001b[0m \u001b[31m34.1 MB/s\u001b[0m eta \u001b[36m0:00:00\u001b[0m\n",
            "\u001b[2K   \u001b[90m━━━━━━━━━━━━━━━━━━━━━━━━━━━━━━━━━━━━━━━━\u001b[0m \u001b[32m207.8/207.8 kB\u001b[0m \u001b[31m13.5 MB/s\u001b[0m eta \u001b[36m0:00:00\u001b[0m\n",
            "\u001b[2K   \u001b[90m━━━━━━━━━━━━━━━━━━━━━━━━━━━━━━━━━━━━━━━━\u001b[0m \u001b[32m131.6/131.6 kB\u001b[0m \u001b[31m7.7 MB/s\u001b[0m eta \u001b[36m0:00:00\u001b[0m\n",
            "\u001b[2K   \u001b[90m━━━━━━━━━━━━━━━━━━━━━━━━━━━━━━━━━━━━━━━━\u001b[0m \u001b[32m2.3/2.3 MB\u001b[0m \u001b[31m41.8 MB/s\u001b[0m eta \u001b[36m0:00:00\u001b[0m\n",
            "\u001b[2K   \u001b[90m━━━━━━━━━━━━━━━━━━━━━━━━━━━━━━━━━━━━━━━━\u001b[0m \u001b[32m52.0/52.0 kB\u001b[0m \u001b[31m3.3 MB/s\u001b[0m eta \u001b[36m0:00:00\u001b[0m\n",
            "\u001b[2K   \u001b[90m━━━━━━━━━━━━━━━━━━━━━━━━━━━━━━━━━━━━━━━━\u001b[0m \u001b[32m50.8/50.8 kB\u001b[0m \u001b[31m3.1 MB/s\u001b[0m eta \u001b[36m0:00:00\u001b[0m\n",
            "\u001b[2K   \u001b[90m━━━━━━━━━━━━━━━━━━━━━━━━━━━━━━━━━━━━━━━━\u001b[0m \u001b[32m141.9/141.9 kB\u001b[0m \u001b[31m8.3 MB/s\u001b[0m eta \u001b[36m0:00:00\u001b[0m\n",
            "\u001b[2K   \u001b[90m━━━━━━━━━━━━━━━━━━━━━━━━━━━━━━━━━━━━━━━━\u001b[0m \u001b[32m50.6/50.6 kB\u001b[0m \u001b[31m3.3 MB/s\u001b[0m eta \u001b[36m0:00:00\u001b[0m\n",
            "\u001b[2K   \u001b[90m━━━━━━━━━━━━━━━━━━━━━━━━━━━━━━━━━━━━━━━━\u001b[0m \u001b[32m295.8/295.8 kB\u001b[0m \u001b[31m16.2 MB/s\u001b[0m eta \u001b[36m0:00:00\u001b[0m\n",
            "\u001b[2K   \u001b[90m━━━━━━━━━━━━━━━━━━━━━━━━━━━━━━━━━━━━━━━━\u001b[0m \u001b[32m71.1/71.1 kB\u001b[0m \u001b[31m4.9 MB/s\u001b[0m eta \u001b[36m0:00:00\u001b[0m\n",
            "\u001b[2K   \u001b[90m━━━━━━━━━━━━━━━━━━━━━━━━━━━━━━━━━━━━━━━━\u001b[0m \u001b[32m1.1/1.1 MB\u001b[0m \u001b[31m34.5 MB/s\u001b[0m eta \u001b[36m0:00:00\u001b[0m\n",
            "\u001b[2K   \u001b[90m━━━━━━━━━━━━━━━━━━━━━━━━━━━━━━━━━━━━━━━━\u001b[0m \u001b[32m273.8/273.8 kB\u001b[0m \u001b[31m14.6 MB/s\u001b[0m eta \u001b[36m0:00:00\u001b[0m\n",
            "\u001b[2K   \u001b[90m━━━━━━━━━━━━━━━━━━━━━━━━━━━━━━━━━━━━━━━━\u001b[0m \u001b[32m139.1/139.1 kB\u001b[0m \u001b[31m10.4 MB/s\u001b[0m eta \u001b[36m0:00:00\u001b[0m\n",
            "\u001b[2K   \u001b[90m━━━━━━━━━━━━━━━━━━━━━━━━━━━━━━━━━━━━━━━━\u001b[0m \u001b[32m93.5/93.5 kB\u001b[0m \u001b[31m6.7 MB/s\u001b[0m eta \u001b[36m0:00:00\u001b[0m\n",
            "\u001b[2K   \u001b[90m━━━━━━━━━━━━━━━━━━━━━━━━━━━━━━━━━━━━━━━━\u001b[0m \u001b[32m3.1/3.1 MB\u001b[0m \u001b[31m30.5 MB/s\u001b[0m eta \u001b[36m0:00:00\u001b[0m\n",
            "\u001b[2K   \u001b[90m━━━━━━━━━━━━━━━━━━━━━━━━━━━━━━━━━━━━━━━━\u001b[0m \u001b[32m58.3/58.3 kB\u001b[0m \u001b[31m4.4 MB/s\u001b[0m eta \u001b[36m0:00:00\u001b[0m\n",
            "\u001b[2K   \u001b[90m━━━━━━━━━━━━━━━━━━━━━━━━━━━━━━━━━━━━━━━━\u001b[0m \u001b[32m1.7/1.7 MB\u001b[0m \u001b[31m41.0 MB/s\u001b[0m eta \u001b[36m0:00:00\u001b[0m\n",
            "\u001b[2K   \u001b[90m━━━━━━━━━━━━━━━━━━━━━━━━━━━━━━━━━━━━━━━━\u001b[0m \u001b[32m204.3/204.3 kB\u001b[0m \u001b[31m12.8 MB/s\u001b[0m eta \u001b[36m0:00:00\u001b[0m\n",
            "\u001b[2K   \u001b[90m━━━━━━━━━━━━━━━━━━━━━━━━━━━━━━━━━━━━━━━━\u001b[0m \u001b[32m67.6/67.6 kB\u001b[0m \u001b[31m4.4 MB/s\u001b[0m eta \u001b[36m0:00:00\u001b[0m\n",
            "\u001b[2K   \u001b[90m━━━━━━━━━━━━━━━━━━━━━━━━━━━━━━━━━━━━━━━━\u001b[0m \u001b[32m13.2/13.2 MB\u001b[0m \u001b[31m12.6 MB/s\u001b[0m eta \u001b[36m0:00:00\u001b[0m\n",
            "\u001b[2K   \u001b[90m━━━━━━━━━━━━━━━━━━━━━━━━━━━━━━━━━━━━━━━━\u001b[0m \u001b[32m5.4/5.4 MB\u001b[0m \u001b[31m55.8 MB/s\u001b[0m eta \u001b[36m0:00:00\u001b[0m\n",
            "\u001b[2K   \u001b[90m━━━━━━━━━━━━━━━━━━━━━━━━━━━━━━━━━━━━━━━━\u001b[0m \u001b[32m259.4/259.4 kB\u001b[0m \u001b[31m16.4 MB/s\u001b[0m eta \u001b[36m0:00:00\u001b[0m\n",
            "\u001b[2K   \u001b[90m━━━━━━━━━━━━━━━━━━━━━━━━━━━━━━━━━━━━━━━━\u001b[0m \u001b[32m62.8/62.8 kB\u001b[0m \u001b[31m4.4 MB/s\u001b[0m eta \u001b[36m0:00:00\u001b[0m\n",
            "\u001b[2K   \u001b[90m━━━━━━━━━━━━━━━━━━━━━━━━━━━━━━━━━━━━━━━━\u001b[0m \u001b[32m78.6/78.6 kB\u001b[0m \u001b[31m4.9 MB/s\u001b[0m eta \u001b[36m0:00:00\u001b[0m\n",
            "\u001b[2K   \u001b[90m━━━━━━━━━━━━━━━━━━━━━━━━━━━━━━━━━━━━━━━━\u001b[0m \u001b[32m12.5/12.5 MB\u001b[0m \u001b[31m48.7 MB/s\u001b[0m eta \u001b[36m0:00:00\u001b[0m\n",
            "\u001b[2K   \u001b[90m━━━━━━━━━━━━━━━━━━━━━━━━━━━━━━━━━━━━━━━━\u001b[0m \u001b[32m2.8/2.8 MB\u001b[0m \u001b[31m51.1 MB/s\u001b[0m eta \u001b[36m0:00:00\u001b[0m\n",
            "\u001b[2K   \u001b[90m━━━━━━━━━━━━━━━━━━━━━━━━━━━━━━━━━━━━━━━━\u001b[0m \u001b[32m294.6/294.6 kB\u001b[0m \u001b[31m18.7 MB/s\u001b[0m eta \u001b[36m0:00:00\u001b[0m\n",
            "\u001b[2K   \u001b[90m━━━━━━━━━━━━━━━━━━━━━━━━━━━━━━━━━━━━━━━━\u001b[0m \u001b[32m341.4/341.4 kB\u001b[0m \u001b[31m20.6 MB/s\u001b[0m eta \u001b[36m0:00:00\u001b[0m\n",
            "\u001b[2K   \u001b[90m━━━━━━━━━━━━━━━━━━━━━━━━━━━━━━━━━━━━━━━━\u001b[0m \u001b[32m49.3/49.3 kB\u001b[0m \u001b[31m2.3 MB/s\u001b[0m eta \u001b[36m0:00:00\u001b[0m\n",
            "\u001b[2K   \u001b[90m━━━━━━━━━━━━━━━━━━━━━━━━━━━━━━━━━━━━━━━━\u001b[0m \u001b[32m82.7/82.7 kB\u001b[0m \u001b[31m3.7 MB/s\u001b[0m eta \u001b[36m0:00:00\u001b[0m\n",
            "\u001b[2K   \u001b[90m━━━━━━━━━━━━━━━━━━━━━━━━━━━━━━━━━━━━━━━━\u001b[0m \u001b[32m72.0/72.0 kB\u001b[0m \u001b[31m3.4 MB/s\u001b[0m eta \u001b[36m0:00:00\u001b[0m\n",
            "\u001b[2K   \u001b[90m━━━━━━━━━━━━━━━━━━━━━━━━━━━━━━━━━━━━━━━━\u001b[0m \u001b[32m3.4/3.4 MB\u001b[0m \u001b[31m39.8 MB/s\u001b[0m eta \u001b[36m0:00:00\u001b[0m\n",
            "\u001b[2K   \u001b[90m━━━━━━━━━━━━━━━━━━━━━━━━━━━━━━━━━━━━━━━━\u001b[0m \u001b[32m425.7/425.7 kB\u001b[0m \u001b[31m20.0 MB/s\u001b[0m eta \u001b[36m0:00:00\u001b[0m\n",
            "\u001b[2K   \u001b[90m━━━━━━━━━━━━━━━━━━━━━━━━━━━━━━━━━━━━━━━━\u001b[0m \u001b[32m157.3/157.3 kB\u001b[0m \u001b[31m5.4 MB/s\u001b[0m eta \u001b[36m0:00:00\u001b[0m\n",
            "\u001b[2K   \u001b[90m━━━━━━━━━━━━━━━━━━━━━━━━━━━━━━━━━━━━━━━━\u001b[0m \u001b[32m46.0/46.0 kB\u001b[0m \u001b[31m2.9 MB/s\u001b[0m eta \u001b[36m0:00:00\u001b[0m\n",
            "\u001b[2K   \u001b[90m━━━━━━━━━━━━━━━━━━━━━━━━━━━━━━━━━━━━━━━━\u001b[0m \u001b[32m57.5/57.5 kB\u001b[0m \u001b[31m4.1 MB/s\u001b[0m eta \u001b[36m0:00:00\u001b[0m\n",
            "\u001b[2K   \u001b[90m━━━━━━━━━━━━━━━━━━━━━━━━━━━━━━━━━━━━━━━━\u001b[0m \u001b[32m86.8/86.8 kB\u001b[0m \u001b[31m6.6 MB/s\u001b[0m eta \u001b[36m0:00:00\u001b[0m\n",
            "\u001b[?25h  Building wheel for pypika (pyproject.toml) ... \u001b[?25l\u001b[?25hdone\n",
            "\u001b[31mERROR: pip's dependency resolver does not currently take into account all the packages that are installed. This behaviour is the source of the following dependency conflicts.\n",
            "tensorflow-metadata 1.15.0 requires protobuf<4.21,>=3.20.3; python_version < \"3.11\", but you have protobuf 4.25.4 which is incompatible.\u001b[0m\u001b[31m\n",
            "\u001b[0m"
          ]
        }
      ],
      "source": [
        "!pip install -qU langchain openai crewai"
      ]
    },
    {
      "cell_type": "code",
      "source": [
        "from IPython.display import Markdown"
      ],
      "metadata": {
        "id": "EgoQEBVKN5GQ"
      },
      "execution_count": null,
      "outputs": []
    },
    {
      "cell_type": "code",
      "source": [
        "import os\n",
        "from getpass import getpass\n",
        "\n",
        "openai_api_key = os.getenv(\"OPENAI_API_KEY\", None) or getpass(\"Enter OpenAI API key:\")"
      ],
      "metadata": {
        "colab": {
          "base_uri": "https://localhost:8080/"
        },
        "id": "7w3P0LnRKna9",
        "outputId": "207e1d40-4767-4747-d2ff-28a2ea5f8f7b"
      },
      "execution_count": null,
      "outputs": [
        {
          "name": "stdout",
          "output_type": "stream",
          "text": [
            "Enter OpenAI API key:··········\n"
          ]
        }
      ]
    },
    {
      "cell_type": "code",
      "source": [
        "from crewai import Agent, Task, Crew, Process\n",
        "from langchain_openai import ChatOpenAI"
      ],
      "metadata": {
        "colab": {
          "base_uri": "https://localhost:8080/"
        },
        "collapsed": true,
        "id": "e_jZIAYmKceo",
        "outputId": "5a0541cb-fd56-4dd2-c982-19f8c311102e"
      },
      "execution_count": null,
      "outputs": [
        {
          "output_type": "stream",
          "name": "stderr",
          "text": [
            "/usr/local/lib/python3.10/dist-packages/pydantic/_internal/_config.py:341: UserWarning: Valid config keys have changed in V2:\n",
            "* 'allow_population_by_field_name' has been renamed to 'populate_by_name'\n",
            "* 'smart_union' has been removed\n",
            "  warnings.warn(message, UserWarning)\n"
          ]
        }
      ]
    },
    {
      "cell_type": "code",
      "source": [
        "model = \"gpt-3.5-turbo\""
      ],
      "metadata": {
        "id": "_XTeADnNKm-_"
      },
      "execution_count": null,
      "outputs": []
    },
    {
      "cell_type": "code",
      "source": [
        "llm = ChatOpenAI(openai_api_key=openai_api_key, model=model)"
      ],
      "metadata": {
        "id": "PEe7r11uLzFm"
      },
      "execution_count": null,
      "outputs": []
    },
    {
      "cell_type": "code",
      "source": [
        "from crewai import Agent, Task, Crew, Process\n",
        "from langchain_openai import ChatOpenAI\n",
        "model = \"gpt-3.5-turbo\"\n",
        "llm = ChatOpenAI(openai_api_key=openai_api_key, model=model)\n",
        "planner = Agent(\n",
        "    role=\"Content Planner\",\n",
        "    goal=\"Plan engaging and factually accurate content on {topic}\",\n",
        "    backstory=\"You're working on planning a blog article about the topic: {topic}. You collect information that helps the audience learn something and make informed decisions. Your work is the basis for the Content Writer to write an article on this topic.\",\n",
        "    allow_delegation=False,\n",
        "    verbose=True,\n",
        "    llm=llm\n",
        ")\n",
        "writer = Agent(\n",
        "   role=\"Content Writer\",\n",
        "   goal=\"Write engaging and factually accurate content on {topic}\",\n",
        "   backstory=\"You're working on writing a blog article about the topic: {topic}. You use the information provided by the Content Planner to write an article that is engaging and factually accurate.\",\n",
        "   allow_delegation=False,\n",
        "    verbose=True,\n",
        "    llm=llm\n",
        ")\n",
        "editor = Agent(\n",
        "    role=\"Content Reviewer\",\n",
        "    goal=\"Review content for accuracy and engagement\",\n",
        "    backstory=r\"You're working on reviewing a blog article about the topic: {topic}. You ensure that the content is factually accurate and engaging for the audience.\",\n",
        "    allow_delegation=False,\n",
        "    verbose=True,\n",
        "    llm=llm\n",
        ")\n",
        "plan = Task(\n",
        "    description=\"1. Prioritize the latest trends, key players, and noteworthy news on {topic}.\\n2. Identify the target audience, considering their interests and pain points.\\n3. Develop a detailed content outline including an introduction, key points, and a call to action.\\n4. Include SEO keywords and relevant data or sources.\",\n",
        "    expected_output=\"A comprehensive content plan document with an outline, audience analysis, SEO keywords, and resources.\",\n",
        "    agent=planner\n",
        ")\n",
        "write = Task(\n",
        "    description=\"1. Use the content plan to craft a compelling blog post on {topic}.\\n2. Incorporate SEO keywords naturally.\\n3. Sections/Subtitles are properly named in an engaging manner.\\n4. Ensure the post is structured with an engaging introduction, insightful body, and a summarizing conclusion.\\n5. Proofread for grammatical errors and alignment with the brand's voice.\",\n",
        "    expected_output=\"A well-written blog post in markdown format, ready for publication, each section should have 2 or 3 paragraphs.\",\n",
        "    agent=writer\n",
        ")\n",
        "edit= Task(\n",
        "    description=\"Proofread the given blog post for grammatical errors and alignment with the brand's voice.\",\n",
        "    expected_output=\"A well-written blog post in markdown format, ready for publication, each section should have 2 or 3 paragraphs.\",\n",
        "    agent=editor\n",
        ")\n",
        "crew = Crew(\n",
        "    agents=[planner, writer, editor],\n",
        "    tasks=[plan, write, edit],\n",
        "    verbose=0\n",
        ")\n",
        "result = crew.kickoff(\n",
        "    inputs={\"topic\": \"Artificial Intelligents\"}\n",
        ")"
      ],
      "metadata": {
        "colab": {
          "base_uri": "https://localhost:8080/"
        },
        "id": "dKKkzeHkL8T_",
        "outputId": "f9d4ea23-4a7b-49eb-970f-fe9564bf5e6c"
      },
      "execution_count": null,
      "outputs": [
        {
          "output_type": "stream",
          "name": "stderr",
          "text": [
            "WARNING:opentelemetry.trace:Overriding of current TracerProvider is not allowed\n"
          ]
        }
      ]
    },
    {
      "cell_type": "code",
      "source": [
        "result = crew.kickoff(\n",
        "    inputs={\"topic\": \"Artificial Intelligents\"}\n",
        ")"
      ],
      "metadata": {
        "colab": {
          "base_uri": "https://localhost:8080/"
        },
        "id": "BpbTWBjVMNyo",
        "outputId": "91c445a3-4d7e-48d0-8d43-f57d01bd30e6"
      },
      "execution_count": null,
      "outputs": [
        {
          "output_type": "stream",
          "name": "stdout",
          "text": [
            "\n",
            "\n",
            "\u001b[1m> Entering new CrewAgentExecutor chain...\u001b[0m\n",
            "\u001b[32;1m\u001b[1;3mI now can give a great answer\n",
            "\n",
            "Final Answer:\n",
            "Title: The Future of Artificial Intelligence: Trends, Players, and News\n",
            "\n",
            "Outline:\n",
            "I. Introduction\n",
            "- Definition of Artificial Intelligence (AI)\n",
            "- Importance of AI in various industries\n",
            "- Preview of the latest trends and key players in the AI space\n",
            "\n",
            "II. Latest Trends in Artificial Intelligence\n",
            "- Machine Learning advancements\n",
            "- Natural Language Processing developments\n",
            "- AI ethics and regulations\n",
            "- AI in healthcare, finance, and other sectors\n",
            "\n",
            "III. Key Players in the Artificial Intelligence Industry\n",
            "- Google DeepMind\n",
            "- IBM Watson\n",
            "- Tesla's Autopilot\n",
            "- Amazon Web Services AI\n",
            "- Microsoft Azure AI\n",
            "\n",
            "IV. Noteworthy News in Artificial Intelligence\n",
            "- Recent breakthroughs in AI research\n",
            "- AI applications in everyday life\n",
            "- Impact of AI on job market and society\n",
            "- Future predictions for AI technology\n",
            "\n",
            "V. Target Audience Analysis\n",
            "- Tech enthusiasts interested in AI advancements\n",
            "- Business professionals looking to implement AI solutions\n",
            "- Students studying AI and related fields\n",
            "- Individuals curious about the impact of AI on society\n",
            "\n",
            "VI. SEO Keywords\n",
            "- Artificial Intelligence trends\n",
            "- Top AI companies\n",
            "- Latest AI news\n",
            "- Future of AI technology\n",
            "- AI industry updates\n",
            "\n",
            "VII. Call to Action\n",
            "- Encourage readers to stay updated on AI news and advancements\n",
            "- Prompt them to explore AI resources and courses online\n",
            "- Invite them to share their thoughts and opinions on AI in the comments section\n",
            "\n",
            "VIII. Resources\n",
            "- Research papers from reputable AI journals\n",
            "- Industry reports on AI trends and developments\n",
            "- Interviews with AI experts and thought leaders\n",
            "- Websites and blogs dedicated to AI news and analysis\n",
            "\n",
            "By following this comprehensive content plan, the blog article on Artificial Intelligence will provide valuable insights to the target audience, engage readers with the latest trends and key players, and encourage them to take action in the ever-evolving world of AI technology.\u001b[0m\n",
            "\n",
            "\u001b[1m> Finished chain.\u001b[0m\n",
            "\n",
            "\n",
            "\u001b[1m> Entering new CrewAgentExecutor chain...\u001b[0m\n",
            "\u001b[32;1m\u001b[1;3mI now can give a great answer\n",
            "\n",
            "Final Answer:\n",
            "\n",
            "# The Future of Artificial Intelligence: Trends, Players, and News\n",
            "\n",
            "## Introduction\n",
            "Artificial Intelligence (AI) is a revolutionary technology that simulates human intelligence in machines to perform tasks that typically require human intelligence. From voice assistants to self-driving cars, AI has permeated various industries, transforming the way we live and work. The latest trends in AI and key players in the industry are shaping the future of this technology.\n",
            "\n",
            "## Latest Trends in Artificial Intelligence\n",
            "Machine Learning advancements continue to drive AI innovation, enabling machines to learn from data and make decisions without explicit programming. Natural Language Processing (NLP) developments have improved communication between humans and machines, leading to advancements in chatbots and language translation. AI ethics and regulations are becoming increasingly important as AI technologies raise ethical concerns about privacy, bias, and transparency. AI is being implemented in healthcare, finance, and other sectors to improve efficiency, accuracy, and decision-making processes.\n",
            "\n",
            "## Key Players in the Artificial Intelligence Industry\n",
            "Google DeepMind, IBM Watson, Tesla's Autopilot, Amazon Web Services AI, and Microsoft Azure AI are leading the way in AI research and development. These companies are driving innovation in machine learning, NLP, computer vision, and robotics, shaping the future of AI technology.\n",
            "\n",
            "## Noteworthy News in Artificial Intelligence\n",
            "Recent breakthroughs in AI research, such as AlphaFold's protein folding prediction, have shown the potential of AI to solve complex scientific problems. AI applications in everyday life, like recommendation systems and predictive analytics, are enhancing user experiences and driving business growth. The impact of AI on the job market and society is a topic of debate as automation and AI-driven technologies reshape industries. Future predictions for AI technology include advancements in autonomous systems, personalized healthcare, and smart cities.\n",
            "\n",
            "## Target Audience Analysis\n",
            "Tech enthusiasts interested in AI advancements, business professionals looking to implement AI solutions, students studying AI and related fields, and individuals curious about the impact of AI on society will find valuable insights in this blog post. Whether you are a beginner or an expert in AI, there is something for everyone to learn and explore in the ever-evolving world of AI technology.\n",
            "\n",
            "## SEO Keywords\n",
            "Artificial Intelligence trends, Top AI companies, Latest AI news, Future of AI technology, AI industry updates\n",
            "\n",
            "## Call to Action\n",
            "Stay updated on AI news and advancements by following reputable sources and industry reports. Explore AI resources and courses online to deepen your knowledge and skills in AI technology. Share your thoughts and opinions on AI in the comments section to engage in discussions with fellow AI enthusiasts.\n",
            "\n",
            "## Resources\n",
            "Research papers from reputable AI journals, industry reports on AI trends and developments, interviews with AI experts and thought leaders, websites and blogs dedicated to AI news and analysis\n",
            "\n",
            "By incorporating the latest trends, key players, and noteworthy news in the AI industry, this blog article aims to provide valuable insights to the target audience and encourage readers to explore the world of AI technology. Stay informed, stay curious, and embrace the future of Artificial Intelligence.\u001b[0m\n",
            "\n",
            "\u001b[1m> Finished chain.\u001b[0m\n",
            "\n",
            "\n",
            "\u001b[1m> Entering new CrewAgentExecutor chain...\u001b[0m\n",
            "\u001b[32;1m\u001b[1;3mI now can give a great answer\n",
            "\n",
            "Final Answer:\n",
            "# The Future of Artificial Intelligence: Trends, Players, and News\n",
            "\n",
            "## Introduction\n",
            "Artificial Intelligence (AI) is a revolutionary technology that simulates human intelligence in machines to perform tasks that typically require human intelligence. From voice assistants to self-driving cars, AI has permeated various industries, transforming the way we live and work. The latest trends in AI and key players in the industry are shaping the future of this technology.\n",
            "\n",
            "## Latest Trends in Artificial Intelligence\n",
            "Machine Learning advancements continue to drive AI innovation, enabling machines to learn from data and make decisions without explicit programming. Natural Language Processing (NLP) developments have improved communication between humans and machines, leading to advancements in chatbots and language translation. AI ethics and regulations are becoming increasingly important as AI technologies raise ethical concerns about privacy, bias, and transparency. AI is being implemented in healthcare, finance, and other sectors to improve efficiency, accuracy, and decision-making processes.\n",
            "\n",
            "## Key Players in the Artificial Intelligence Industry\n",
            "Google DeepMind, IBM Watson, Tesla's Autopilot, Amazon Web Services AI, and Microsoft Azure AI are leading the way in AI research and development. These companies are driving innovation in machine learning, NLP, computer vision, and robotics, shaping the future of AI technology.\n",
            "\n",
            "## Noteworthy News in Artificial Intelligence\n",
            "Recent breakthroughs in AI research, such as AlphaFold's protein folding prediction, have shown the potential of AI to solve complex scientific problems. AI applications in everyday life, like recommendation systems and predictive analytics, are enhancing user experiences and driving business growth. The impact of AI on the job market and society is a topic of debate as automation and AI-driven technologies reshape industries. Future predictions for AI technology include advancements in autonomous systems, personalized healthcare, and smart cities.\n",
            "\n",
            "## Target Audience Analysis\n",
            "Tech enthusiasts interested in AI advancements, business professionals looking to implement AI solutions, students studying AI and related fields, and individuals curious about the impact of AI on society will find valuable insights in this blog post. Whether you are a beginner or an expert in AI, there is something for everyone to learn and explore in the ever-evolving world of AI technology.\n",
            "\n",
            "## SEO Keywords\n",
            "Artificial Intelligence trends, Top AI companies, Latest AI news, Future of AI technology, AI industry updates\n",
            "\n",
            "## Call to Action\n",
            "Stay updated on AI news and advancements by following reputable sources and industry reports. Explore AI resources and courses online to deepen your knowledge and skills in AI technology. Share your thoughts and opinions on AI in the comments section to engage in discussions with fellow AI enthusiasts.\n",
            "\n",
            "## Resources\n",
            "Research papers from reputable AI journals, industry reports on AI trends and developments, interviews with AI experts and thought leaders, websites and blogs dedicated to AI news and analysis\n",
            "\n",
            "By incorporating the latest trends, key players, and noteworthy news in the AI industry, this blog article aims to provide valuable insights to the target audience and encourage readers to explore the world of AI technology. Stay informed, stay curious, and embrace the future of Artificial Intelligence.\u001b[0m\n",
            "\n",
            "\u001b[1m> Finished chain.\u001b[0m\n"
          ]
        }
      ]
    },
    {
      "cell_type": "code",
      "source": [
        "print(result.raw)"
      ],
      "metadata": {
        "colab": {
          "base_uri": "https://localhost:8080/"
        },
        "id": "F9Eo38f0OfGw",
        "outputId": "e604f64e-6eba-4885-e4bf-68ce2231c4f7"
      },
      "execution_count": null,
      "outputs": [
        {
          "output_type": "stream",
          "name": "stdout",
          "text": [
            "# The Future of Artificial Intelligence: Trends, Players, and News\n",
            "\n",
            "## Introduction\n",
            "\n",
            "Artificial Intelligence (AI) has revolutionized various industries, from healthcare to finance, with its ability to analyze data and make intelligent decisions. As AI continues to evolve, staying updated on the latest trends and key players in the field is crucial for professionals and businesses alike. The future of AI holds immense potential for innovation and growth, making it essential for individuals to stay informed and engaged with the latest developments in the industry.\n",
            "\n",
            "## Latest Trends in Artificial Intelligence\n",
            "\n",
            "### Machine Learning Advancements\n",
            "One of the most significant trends in AI is the continuous advancements in machine learning algorithms. These algorithms enable AI systems to learn from data, improve performance, and make predictions without being explicitly programmed. From recommendation systems to image recognition, machine learning is at the core of many AI applications, driving efficiency and accuracy in decision-making processes.\n",
            "\n",
            "### Ethical Considerations in AI Development\n",
            "With the increasing use of AI in decision-making processes, ethical considerations have become a major focus in the industry. Issues such as bias in algorithms, data privacy, and transparency in AI decision-making are critical areas that require attention to ensure fair and responsible AI development. By addressing these ethical considerations, professionals can contribute to the development of AI technology that benefits society as a whole.\n",
            "\n",
            "### AI in Healthcare, Finance, and Other Sectors\n",
            "AI is transforming the healthcare industry by improving diagnostics, personalized treatment plans, and patient care. In finance, AI is used for fraud detection, risk assessment, and algorithmic trading, enhancing operational efficiency and risk management practices. The potential of AI extends to various sectors, driving innovation and efficiency in processes, ultimately leading to improved outcomes and experiences for individuals and businesses.\n",
            "\n",
            "### Autonomous Vehicles and Robotics\n",
            "Advancements in AI have led to the development of autonomous vehicles and robots that can perform tasks independently. From self-driving cars to robotic assistants, AI-powered systems are reshaping transportation and automation industries, offering new possibilities for efficiency and safety. These advancements in autonomous technology highlight the transformative power of AI in revolutionizing traditional industries and creating new opportunities for growth and development.\n",
            "\n",
            "## Key Players in the AI Industry\n",
            "\n",
            "### Google's DeepMind\n",
            "Google's DeepMind is known for its breakthroughs in AI research, particularly in areas such as reinforcement learning and neural networks. The company's AI algorithms have been applied to various fields, showcasing the potential of AI for solving complex problems and driving innovation in research and development. By collaborating with industry partners, Google's DeepMind continues to push the boundaries of AI technology and explore new applications for AI in diverse industries.\n",
            "\n",
            "### IBM Watson\n",
            "IBM Watson is a leading AI platform that offers cognitive computing capabilities for businesses and industries. With applications in healthcare, finance, and cybersecurity, IBM Watson continues to innovate and provide cutting-edge AI solutions to its clients, empowering organizations to harness the power of AI for strategic decision-making and operational efficiency. Through ongoing research and development, IBM Watson remains at the forefront of AI technology, driving advancements in AI applications across various sectors.\n",
            "\n",
            "### Microsoft Azure AI\n",
            "Microsoft Azure AI provides a range of AI services and tools for developers to build intelligent applications. From natural language processing to computer vision, Microsoft Azure AI empowers businesses to leverage AI technologies for enhanced productivity and innovation, enabling organizations to create AI-driven solutions that drive growth and competitive advantage. With scalable and cost-effective AI services, Microsoft Azure AI is a key player in the AI industry, supporting businesses in their digital transformation journey and AI adoption strategies.\n",
            "\n",
            "### Amazon Web Services AI\n",
            "Amazon Web Services AI offers a comprehensive suite of AI services, including machine learning, speech recognition, and predictive analytics. With scalable and cost-effective AI solutions, Amazon Web Services AI enables businesses to deploy AI applications efficiently, driving innovation and growth in diverse industries. By providing a robust AI infrastructure and tools, Amazon Web Services AI supports organizations in developing AI-driven solutions that address complex business challenges and drive operational excellence.\n",
            "\n",
            "### OpenAI\n",
            "OpenAI is a research organization dedicated to advancing AI technology in a safe and beneficial manner. Known for its work in natural language processing and reinforcement learning, OpenAI collaborates with industry partners and researchers to explore the potential of AI for positive impact, driving innovation and ethical AI development. By promoting transparency and responsible AI deployment, OpenAI plays a key role in shaping the future of AI technology and ensuring that AI benefits society as a whole, contributing to the advancement of AI technology for the betterment of humanity.\n",
            "\n",
            "## Noteworthy News in Artificial Intelligence\n",
            "\n",
            "### Recent Breakthroughs in Natural Language Processing\n",
            "Recent advancements in natural language processing have led to significant improvements in AI's ability to understand and generate human language. From chatbots to language translation, AI applications in natural language processing continue to evolve, offering new possibilities for communication and interaction, driving innovation in language-based AI applications.\n",
            "\n",
            "### AI Applications in Cybersecurity\n",
            "AI is playing a crucial role in cybersecurity by detecting and preventing cyber threats in real-time. With AI-powered tools for threat intelligence and anomaly detection, organizations can enhance their security posture and mitigate risks from evolving cyber attacks, ensuring the protection of sensitive data and critical infrastructure.\n",
            "\n",
            "### AI-Driven Personalized Marketing Strategies\n",
            "AI is transforming marketing strategies by enabling personalized customer experiences and targeted campaigns. Through data analysis and predictive modeling, AI algorithms can identify consumer preferences, optimize marketing content, and drive engagement for businesses across industries, enhancing customer relationships and driving business growth through personalized marketing initiatives.\n",
            "\n",
            "### Regulatory Updates in AI Technology\n",
            "As AI technologies continue to advance, regulatory frameworks and ethical guidelines are being developed to ensure responsible AI deployment. From data protection laws to algorithm accountability, regulatory updates aim to address the ethical implications of AI use and promote transparency in AI development, fostering trust and accountability in AI applications for the benefit of individuals and society as a whole.\n",
            "\n",
            "## Conclusion\n",
            "\n",
            "In conclusion, the future of Artificial Intelligence is filled with exciting trends, key players, and noteworthy news that shape the industry's landscape. By staying informed and engaged with AI developments, professionals, businesses, and enthusiasts can leverage the potential of AI for innovation, efficiency, and growth. As AI continues to evolve, it is essential to embrace the opportunities it offers and navigate the challenges it presents, making informed decisions and contributing to the advancement of AI technology. Remember to subscribe to our newsletter for regular AI updates, engage in discussions on social media platforms, and explore further reading resources to deepen your knowledge on AI advancements. The future of Artificial Intelligence is here, and it's up to us to shape it for the better.\n"
          ]
        }
      ]
    },
    {
      "cell_type": "code",
      "source": [
        "from langchain_openai import ChatOpenAI\n",
        "from langchain.agents import tool\n",
        "from langchain_core.prompts import ChatPromptTemplate, MessagesPlaceholder\n",
        "from langchain.agents.format_scratchpad.openai_tools import format_to_openai_tool_messages\n",
        "from langchain.agents.output_parsers.openai_tools import OpenAIToolsAgentOutputParser\n",
        "from langchain.agents import AgentExecutor\n",
        "\n",
        "# Load the LL\n",
        "\n",
        "# Define Agent Descriptions\n",
        "PLANNER_DESCRIPTION = \"\"\"\n",
        "Role: Content Planner\n",
        "Goal: Plan engaging and factually accurate content on the given topic\n",
        "Backstory: You're an experienced content strategist working on planning a blog article.\n",
        "You collect information that helps the audience learn something and make informed decisions.\n",
        "Your work is the basis for the Content Writer to write an article on this topic.\n",
        "\"\"\"\n",
        "\n",
        "WRITER_DESCRIPTION = \"\"\"\n",
        "Role: Content Writer\n",
        "Goal: Write engaging and factually accurate content based on the provided plan\n",
        "Backstory: You're a skilled writer tasked with creating a blog article.\n",
        "You use the information provided by the Content Planner to write an article\n",
        "that is engaging, informative, and factually accurate.\n",
        "\"\"\"\n",
        "\n",
        "EDITOR_DESCRIPTION = \"\"\"\n",
        "Role: Content Reviewer\n",
        "Goal: Review content for accuracy, engagement, and polish\n",
        "Backstory: You're an experienced editor working on reviewing and refining blog articles.\n",
        "You ensure that the content is factually accurate, engaging for the audience,\n",
        "and polished to a high standard.\n",
        "\"\"\"\n",
        "\n",
        "# Define Tools with Task Instructions\n",
        "@tool\n",
        "def plan_content(topic: str) -> str:\n",
        "    \"\"\"\n",
        "    Plan content for a blog post on the given topic.\n",
        "    Task Instructions:\n",
        "    1. Identify the latest trends and key players related to the topic.\n",
        "    2. Determine the target audience and their interests.\n",
        "    3. Develop a detailed content outline with an introduction, key points, and a conclusion.\n",
        "    4. Suggest relevant data sources or examples to include.\n",
        "    \"\"\"\n",
        "    return f\"Content plan created for the topic: {topic}\"\n",
        "\n",
        "@tool\n",
        "def write_content(plan: str) -> str:\n",
        "    \"\"\"\n",
        "    Write content based on the given plan.\n",
        "    Task Instructions:\n",
        "    1. Follow the content plan to craft a compelling blog post.\n",
        "    2. Ensure the post has an engaging introduction, informative body, and strong conclusion.\n",
        "    3. Use clear and concise language appropriate for the target audience.\n",
        "    4. Incorporate relevant examples, data, or case studies to support key points.\n",
        "    \"\"\"\n",
        "    return f\"Blog post written based on the plan: {plan}\"\n",
        "\n",
        "@tool\n",
        "def review_content(content: str) -> str:\n",
        "    \"\"\"\n",
        "    Review and edit the given content.\n",
        "    Task Instructions:\n",
        "    1. Check for factual accuracy and consistency throughout the article.\n",
        "    2. Ensure the content flows logically and engages the reader.\n",
        "    3. Proofread for grammar, spelling, and punctuation errors.\n",
        "    4. Suggest improvements for clarity, style, and overall impact.\n",
        "    \"\"\"\n",
        "    return f\"Content reviewed and edited: {content}\"\n",
        "\n",
        "tools = [plan_content, write_content, review_content]\n",
        "\n",
        "# Create Prompt\n",
        "prompt = ChatPromptTemplate.from_messages([\n",
        "    (\"system\", \"\"\"You are an AI assistant tasked with creating a blog post. You have three roles:\n",
        "\n",
        "{planner_description}\n",
        "\n",
        "{writer_description}\n",
        "\n",
        "{editor_description}\n",
        "\n",
        "Use the appropriate tool for each stage of the content creation process.\n",
        "Always start with planning, then move to writing, and finish with reviewing.\"\"\"),\n",
        "    (\"user\", \"{input}\"),\n",
        "    MessagesPlaceholder(variable_name=\"agent_scratchpad\"),\n",
        "])\n",
        "\n",
        "# Bind tools to LLM\n",
        "llm_with_tools = llm.bind_tools(tools)\n",
        "\n",
        "# Create the Agent\n",
        "agent = (\n",
        "    {\n",
        "        \"input\": lambda x: x[\"input\"],\n",
        "        \"planner_description\": lambda _: PLANNER_DESCRIPTION,\n",
        "        \"writer_description\": lambda _: WRITER_DESCRIPTION,\n",
        "        \"editor_description\": lambda _: EDITOR_DESCRIPTION,\n",
        "        \"agent_scratchpad\": lambda x: format_to_openai_tool_messages(x[\"intermediate_steps\"]),\n",
        "    }\n",
        "    | prompt\n",
        "    | llm_with_tools\n",
        "    | OpenAIToolsAgentOutputParser()\n",
        ")\n",
        "\n",
        "# Create the Agent Executor\n",
        "agent_executor = AgentExecutor(agent=agent, tools=tools, verbose=True)\n",
        "\n",
        "# Run the agent\n",
        "topic = \"AI in Healthcare\"\n",
        "result = agent_executor.invoke({\"input\": f\"Create a blog post about {topic}\"})\n",
        "print(result['output'])\n"
      ],
      "metadata": {
        "colab": {
          "base_uri": "https://localhost:8080/"
        },
        "id": "5sDhaqW9VwHX",
        "outputId": "0f63c2ac-1e59-4b61-d6ab-5773ac860840"
      },
      "execution_count": null,
      "outputs": [
        {
          "output_type": "stream",
          "name": "stdout",
          "text": [
            "\n",
            "\n",
            "\u001b[1m> Entering new AgentExecutor chain...\u001b[0m\n",
            "\u001b[32;1m\u001b[1;3m\n",
            "Invoking: `plan_content` with `{'topic': 'AI in Healthcare'}`\n",
            "\n",
            "\n",
            "\u001b[0m\u001b[36;1m\u001b[1;3mContent plan created for the topic: AI in Healthcare\u001b[0m\u001b[32;1m\u001b[1;3m\n",
            "Invoking: `write_content` with `{'plan': 'AI in Healthcare'}`\n",
            "\n",
            "\n",
            "\u001b[0m\u001b[33;1m\u001b[1;3mBlog post written based on the plan: AI in Healthcare\u001b[0m\u001b[32;1m\u001b[1;3m\n",
            "Invoking: `review_content` with `{'content': 'Blog post written based on the plan: AI in Healthcare'}`\n",
            "\n",
            "\n",
            "\u001b[0m\u001b[38;5;200m\u001b[1;3mContent reviewed and edited: Blog post written based on the plan: AI in Healthcare\u001b[0m\u001b[32;1m\u001b[1;3mI have created a blog post about \"AI in Healthcare.\" The content has been planned, written, and reviewed to ensure accuracy, engagement, and polish.\u001b[0m\n",
            "\n",
            "\u001b[1m> Finished chain.\u001b[0m\n",
            "I have created a blog post about \"AI in Healthcare.\" The content has been planned, written, and reviewed to ensure accuracy, engagement, and polish.\n"
          ]
        }
      ]
    }
  ]
}